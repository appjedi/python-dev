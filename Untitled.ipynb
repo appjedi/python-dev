{
 "cells": [
  {
   "cell_type": "code",
   "execution_count": 2,
   "id": "e4d15945-7c0b-4033-b475-eeaacea1c9ee",
   "metadata": {},
   "outputs": [
    {
     "name": "stdin",
     "output_type": "stream",
     "text": [
      "name: bob\n"
     ]
    },
    {
     "name": "stdout",
     "output_type": "stream",
     "text": [
      "hello bob\n"
     ]
    }
   ],
   "source": [
    "name=input(\"name:\")\n",
    "print (\"hello\", name)"
   ]
  },
  {
   "cell_type": "code",
   "execution_count": null,
   "id": "fd91a420-1b20-4c62-881e-6930e02f0484",
   "metadata": {},
   "outputs": [],
   "source": []
  },
  {
   "cell_type": "code",
   "execution_count": null,
   "id": "2c95fe4c-1d5f-4028-a740-b9f4f5079dad",
   "metadata": {},
   "outputs": [],
   "source": []
  },
  {
   "cell_type": "code",
   "execution_count": null,
   "id": "91ceeaa0-5ca5-4067-8a43-be72c3b2b459",
   "metadata": {},
   "outputs": [],
   "source": []
  }
 ],
 "metadata": {
  "kernelspec": {
   "display_name": "Python 3 (ipykernel)",
   "language": "python",
   "name": "python3"
  },
  "language_info": {
   "codemirror_mode": {
    "name": "ipython",
    "version": 3
   },
   "file_extension": ".py",
   "mimetype": "text/x-python",
   "name": "python",
   "nbconvert_exporter": "python",
   "pygments_lexer": "ipython3",
   "version": "3.13.1"
  }
 },
 "nbformat": 4,
 "nbformat_minor": 5
}
