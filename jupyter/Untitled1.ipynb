{
 "cells": [
  {
   "cell_type": "code",
   "execution_count": 5,
   "id": "dc6c26fd-7b44-40a7-b69f-6053f7fe6d3f",
   "metadata": {},
   "outputs": [
    {
     "name": "stdout",
     "output_type": "stream",
     "text": [
      "Hello bob\n",
      "\n",
      "Hello jeff\n",
      "\n"
     ]
    }
   ],
   "source": [
    "file = open('names.txt', 'r')\n",
    "names=file.readlines()\n",
    "for name in names:\n",
    "    print(f\"Hello {name}\")"
   ]
  },
  {
   "cell_type": "code",
   "execution_count": null,
   "id": "7ca07227-22aa-4670-9935-bd7fcc69ab17",
   "metadata": {},
   "outputs": [],
   "source": []
  }
 ],
 "metadata": {
  "kernelspec": {
   "display_name": "Python 3 (ipykernel)",
   "language": "python",
   "name": "python3"
  },
  "language_info": {
   "codemirror_mode": {
    "name": "ipython",
    "version": 3
   },
   "file_extension": ".py",
   "mimetype": "text/x-python",
   "name": "python",
   "nbconvert_exporter": "python",
   "pygments_lexer": "ipython3",
   "version": "3.13.1"
  }
 },
 "nbformat": 4,
 "nbformat_minor": 5
}
